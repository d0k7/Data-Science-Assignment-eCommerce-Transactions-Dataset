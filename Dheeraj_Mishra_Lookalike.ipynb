{
  "nbformat": 4,
  "nbformat_minor": 0,
  "metadata": {
    "colab": {
      "provenance": []
    },
    "kernelspec": {
      "name": "python3",
      "display_name": "Python 3"
    },
    "language_info": {
      "name": "python"
    }
  },
  "cells": [
    {
      "cell_type": "markdown",
      "source": [
        "**Task 2: Lookalike Model**"
      ],
      "metadata": {
        "id": "lvaGrK6wv812"
      }
    },
    {
      "cell_type": "code",
      "execution_count": 4,
      "metadata": {
        "colab": {
          "base_uri": "https://localhost:8080/"
        },
        "id": "4Rc0RDM8v2Z6",
        "outputId": "6983d3e1-a991-496e-d0ca-952b1e4337a0"
      },
      "outputs": [
        {
          "output_type": "stream",
          "name": "stdout",
          "text": [
            "Lookalike model successfully generated recommendations!\n"
          ]
        },
        {
          "output_type": "stream",
          "name": "stderr",
          "text": [
            "<ipython-input-4-1021650e3992>:42: FutureWarning: Setting an item of incompatible dtype is deprecated and will raise an error in a future version of pandas. Value '0' has dtype incompatible with datetime64[ns], please explicitly cast to a compatible dtype first.\n",
            "  customer_data.fillna(0, inplace=True)  # Handle numerical missing values\n"
          ]
        }
      ],
      "source": [
        "# Task 2: Lookalike Model\n",
        "\n",
        "# Importing necessary libraries\n",
        "import pandas as pd\n",
        "import numpy as np\n",
        "from sklearn.preprocessing import StandardScaler\n",
        "from sklearn.neighbors import NearestNeighbors\n",
        "\n",
        "# Loading datasets\n",
        "customers_path = \"/content/drive/MyDrive/Zeotap Dataset/Customers.csv\"\n",
        "products_path = \"/content/drive/MyDrive/Zeotap Dataset/Products.csv\"\n",
        "transactions_path = \"/content/drive/MyDrive/Zeotap Dataset/Transactions.csv\"\n",
        "\n",
        "customers = pd.read_csv(customers_path)\n",
        "products = pd.read_csv(products_path)\n",
        "transactions = pd.read_csv(transactions_path)\n",
        "\n",
        "# Standardizing column names\n",
        "customers.columns = customers.columns.str.strip()\n",
        "products.columns = products.columns.str.strip()\n",
        "transactions.columns = transactions.columns.str.strip()\n",
        "\n",
        "# Convert SignupDate to datetime format\n",
        "customers['SignupDate'] = pd.to_datetime(customers['SignupDate'])\n",
        "\n",
        "# Feature Engineering: Creating Aggregated Transaction Data\n",
        "transactions['TransactionDate'] = pd.to_datetime(transactions['TransactionDate'])\n",
        "customer_spending = transactions.groupby('CustomerID').agg(\n",
        "    total_spent=('TotalValue', 'sum'),\n",
        "    total_transactions=('TransactionID', 'count'),\n",
        "    avg_order_value=('TotalValue', 'mean'),\n",
        "    first_purchase=('TransactionDate', 'min'),\n",
        "    last_purchase=('TransactionDate', 'max')\n",
        ").reset_index()\n",
        "\n",
        "# Merge customer information with spending data\n",
        "customer_data = customers.merge(customer_spending, on='CustomerID', how='left')\n",
        "\n",
        "# Handle missing values correctly\n",
        "customer_data['first_purchase'] = customer_data['first_purchase'].fillna(pd.NaT)\n",
        "customer_data['last_purchase'] = customer_data['last_purchase'].fillna(pd.NaT)\n",
        "customer_data.fillna(0, inplace=True)  # Handle numerical missing values\n",
        "\n",
        "# Feature Engineering: Encoding Categorical Features\n",
        "customer_data['SignupDays'] = (customer_data['SignupDate'].max() - customer_data['SignupDate']).dt.days\n",
        "customer_data.drop(columns=['SignupDate', 'first_purchase', 'last_purchase'], inplace=True)\n",
        "\n",
        "# One-hot encoding for categorical features (Region)\n",
        "customer_data = pd.get_dummies(customer_data, columns=['Region'], drop_first=True)\n",
        "\n",
        "# Normalizing Data\n",
        "scaler = StandardScaler()\n",
        "features = ['total_spent', 'total_transactions', 'avg_order_value', 'SignupDays'] + list(customer_data.columns[4:])\n",
        "customer_data_scaled = scaler.fit_transform(customer_data[features])\n",
        "\n",
        "# Training Nearest Neighbors Model\n",
        "knn = NearestNeighbors(n_neighbors=4, metric='euclidean')  # 4 neighbors (including self)\n",
        "knn.fit(customer_data_scaled)\n",
        "\n",
        "# Finding Lookalikes for first 20 customers\n",
        "customer_ids = customer_data['CustomerID'].values[:20]\n",
        "lookalike_results = []\n",
        "\n",
        "for idx, customer in enumerate(customer_ids):\n",
        "    customer_idx = customer_data[customer_data['CustomerID'] == customer].index[0]\n",
        "    distances, indices = knn.kneighbors([customer_data_scaled[customer_idx]])\n",
        "    similar_customers = customer_data.iloc[indices[0][1:]]  # Exclude self\n",
        "    lookalike_results.append(\n",
        "        [customer] + [item for sublist in zip(similar_customers['CustomerID'], distances[0][1:]) for item in sublist]\n",
        "    )\n",
        "\n",
        "# Convert results to DataFrame and save\n",
        "lookalike_df = pd.DataFrame(lookalike_results, columns=['CustomerID', 'Lookalike1', 'SimilarityScore1', 'Lookalike2', 'SimilarityScore2', 'Lookalike3', 'SimilarityScore3'])\n",
        "lookalike_df.to_csv(\"Dheeraj_Mishra_Lookalike.csv\", index=False)\n",
        "\n",
        "print(\"Lookalike model successfully generated recommendations!\")\n"
      ]
    },
    {
      "cell_type": "code",
      "source": [
        "# Validate Lookalike Model Output\n",
        "\n",
        "import pandas as pd\n",
        "\n",
        "# Load the generated Lookalike CSV file\n",
        "file_path = \"Dheeraj_Mishra_Lookalike.csv\"\n",
        "lookalike_df = pd.read_csv(file_path)\n",
        "\n",
        "# Step 1: Display first few rows\n",
        "print(\"\\nPreview of Lookalike CSV:\")\n",
        "print(lookalike_df.head())\n",
        "\n",
        "# Step 2: Check column names and data types\n",
        "print(\"\\nLookalike DataFrame Info:\")\n",
        "print(lookalike_df.info())\n",
        "\n",
        "# Step 3: Check for missing values\n",
        "print(\"\\nMissing Values Count:\")\n",
        "print(lookalike_df.isnull().sum())\n",
        "\n",
        "# Step 4: Check for duplicate customers\n",
        "duplicate_count = lookalike_df['CustomerID'].duplicated().sum()\n",
        "print(f\"\\nNumber of Duplicate Customer Entries: {duplicate_count}\")\n",
        "\n",
        "# Step 5: Verify recommendations for a sample customer\n",
        "sample_customer = lookalike_df['CustomerID'].iloc[0]  # Taking first customer in dataset\n",
        "print(f\"\\nSample Lookalike Recommendations for {sample_customer}:\")\n",
        "print(lookalike_df[lookalike_df['CustomerID'] == sample_customer])\n",
        "\n",
        "print(\"\\nLookalike model output validation completed!\")\n"
      ],
      "metadata": {
        "colab": {
          "base_uri": "https://localhost:8080/"
        },
        "id": "yhbmYGN7wBX-",
        "outputId": "39983283-b8a4-4af6-bfd6-296c4a26d310"
      },
      "execution_count": 5,
      "outputs": [
        {
          "output_type": "stream",
          "name": "stdout",
          "text": [
            "\n",
            "Preview of Lookalike CSV:\n",
            "  CustomerID Lookalike1  SimilarityScore1 Lookalike2  SimilarityScore2  \\\n",
            "0      C0001      C0152          0.359416      C0174          0.782027   \n",
            "1      C0002      C0134          0.754951      C0106          1.408437   \n",
            "2      C0003      C0052          0.376965      C0137          0.583755   \n",
            "3      C0004      C0108          0.547975      C0113          0.700855   \n",
            "4      C0005      C0159          0.086665      C0027          0.688693   \n",
            "\n",
            "  Lookalike3  SimilarityScore3  \n",
            "0      C0011          0.830964  \n",
            "1      C0005          1.546777  \n",
            "2      C0191          0.687550  \n",
            "3      C0102          0.715591  \n",
            "4      C0193          1.111066  \n",
            "\n",
            "Lookalike DataFrame Info:\n",
            "<class 'pandas.core.frame.DataFrame'>\n",
            "RangeIndex: 20 entries, 0 to 19\n",
            "Data columns (total 7 columns):\n",
            " #   Column            Non-Null Count  Dtype  \n",
            "---  ------            --------------  -----  \n",
            " 0   CustomerID        20 non-null     object \n",
            " 1   Lookalike1        20 non-null     object \n",
            " 2   SimilarityScore1  20 non-null     float64\n",
            " 3   Lookalike2        20 non-null     object \n",
            " 4   SimilarityScore2  20 non-null     float64\n",
            " 5   Lookalike3        20 non-null     object \n",
            " 6   SimilarityScore3  20 non-null     float64\n",
            "dtypes: float64(3), object(4)\n",
            "memory usage: 1.2+ KB\n",
            "None\n",
            "\n",
            "Missing Values Count:\n",
            "CustomerID          0\n",
            "Lookalike1          0\n",
            "SimilarityScore1    0\n",
            "Lookalike2          0\n",
            "SimilarityScore2    0\n",
            "Lookalike3          0\n",
            "SimilarityScore3    0\n",
            "dtype: int64\n",
            "\n",
            "Number of Duplicate Customer Entries: 0\n",
            "\n",
            "Sample Lookalike Recommendations for C0001:\n",
            "  CustomerID Lookalike1  SimilarityScore1 Lookalike2  SimilarityScore2  \\\n",
            "0      C0001      C0152          0.359416      C0174          0.782027   \n",
            "\n",
            "  Lookalike3  SimilarityScore3  \n",
            "0      C0011          0.830964  \n",
            "\n",
            "Lookalike model output validation completed!\n"
          ]
        }
      ]
    },
    {
      "cell_type": "code",
      "source": [],
      "metadata": {
        "id": "QnsW9-bNwPT7"
      },
      "execution_count": null,
      "outputs": []
    }
  ]
}